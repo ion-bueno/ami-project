{
 "cells": [
  {
   "cell_type": "code",
   "execution_count": 2,
   "metadata": {},
   "outputs": [],
   "source": [
    "from loader import *\n",
    "import pandas as pd\n",
    "import matplotlib as mpl\n",
    "import matplotlib.pyplot as plt\n",
    "\n",
    "\n",
    "\n",
    "\n",
    "class Co2Goals(Loader):\n",
    "\n",
    "    def __init__(self):\n",
    "        super().__init__()\n",
    "        self.my_path = self.path + \"co2goals/\"\n",
    "        self.keys = ['paris_goals_big8']\n",
    "        self.dict = dict.fromkeys(self.keys)\n",
    "\n",
    "    def load(self):\n",
    "        for key in self.keys:\n",
    "            # read in only the columns we want to have (usecols[])\n",
    "            self.dict[key] = pd.read_csv(self.my_path+key+\".csv\",usecols =[\"country\", \"share_ghg\", \"goal_min\", \"goal_max\", \"goal_mean\", \"compared_to\", \"by_year\"])\n",
    "        pass\n",
    "\n",
    "\n",
    "    def get_summary(self):\n",
    "        # for all keys\n",
    "        for key in self.keys:\n",
    "            # save all data in temporary variable data\n",
    "            data = self.dict[key]\n",
    "            countries = data[\"country\"]\n",
    "            \n",
    "            # plot\n",
    "            plt.figure(1)\n",
    "            for country in countries:\n",
    "                # every line starts at 100%=1 and ends at the goal\n",
    "                y = [1, data[\"goal_mean\"]]\n",
    "                # the step in x-direction will be different though\n",
    "                x = [data[\"compared_to\"], data[\"by_year\"]]\n",
    "                # all data is in this range\n",
    "                plt.xlim((1990, 2030))\n",
    "                plt.plot(y, x, label = country)\n",
    "            plt.xlabel('Year')\n",
    "            plt.ylabel('Percentage of CO2 Emissions')\n",
    "            plt.title('Paris Agreement Greenhouse Gas Emission Reduction:\\nGoals of the 8 Biggest Contributors')\n",
    "            plt.legend()\n",
    "            plt.show()\n",
    "        pass\n",
    "\n",
    "    def get_data(self):\n",
    "        return self.dict"
   ]
  },
  {
   "cell_type": "code",
   "execution_count": 3,
   "metadata": {},
   "outputs": [],
   "source": [
    "co2 = Co2Goals()"
   ]
  },
  {
   "cell_type": "code",
   "execution_count": 9,
   "metadata": {},
   "outputs": [
    {
     "name": "stdout",
     "output_type": "stream",
     "text": [
      "None\n"
     ]
    }
   ],
   "source": [
    "print(co2.get_data()[\"paris_goals_big8\"])"
   ]
  },
  {
   "cell_type": "code",
   "execution_count": 8,
   "metadata": {},
   "outputs": [
    {
     "name": "stdout",
     "output_type": "stream",
     "text": [
      "None\n"
     ]
    }
   ],
   "source": [
    "print(co2.dict[\"paris_goals_big8\"])"
   ]
  },
  {
   "cell_type": "code",
   "execution_count": null,
   "metadata": {},
   "outputs": [],
   "source": []
  }
 ],
 "metadata": {
  "kernelspec": {
   "display_name": "Python 3",
   "language": "python",
   "name": "python3"
  },
  "language_info": {
   "codemirror_mode": {
    "name": "ipython",
    "version": 3
   },
   "file_extension": ".py",
   "mimetype": "text/x-python",
   "name": "python",
   "nbconvert_exporter": "python",
   "pygments_lexer": "ipython3",
   "version": "3.7.4"
  }
 },
 "nbformat": 4,
 "nbformat_minor": 2
}
