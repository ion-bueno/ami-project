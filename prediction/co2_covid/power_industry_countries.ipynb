{
 "cells": [
  {
   "cell_type": "code",
   "execution_count": 1,
   "metadata": {},
   "outputs": [],
   "source": [
    "import pandas as pd"
   ]
  },
  {
   "cell_type": "code",
   "execution_count": 2,
   "metadata": {},
   "outputs": [],
   "source": [
    "import os\n",
    "import sys\n",
    "\n",
    "# add path\n",
    "if '../..' in sys.path:\n",
    "    pass\n",
    "else:\n",
    "    sys.path.insert(0, '../..')\n",
    "    \n",
    "\n",
    "from loader.greenhouse_loader import GreenhouseLoader\n",
    "from loader.power_industry_loader import PowerLoader\n",
    "\n",
    "def load_co2_data():\n",
    "    ghg_loader = GreenhouseLoader()\n",
    "    cur_dir = os.getcwd()\n",
    "    os.chdir('../../')\n",
    "    ghg_loader.load()\n",
    "    df_ghg = ghg_loader.get_data()\n",
    "    os.chdir(cur_dir)\n",
    "    return df_ghg\n",
    "\n",
    "def load_power_industry():\n",
    "    power_loader = PowerLoader()\n",
    "    cur_dir = os.getcwd()\n",
    "    os.chdir('../../')\n",
    "    power_loader.load()\n",
    "    df_power = power_loader.get_data()\n",
    "    os.chdir(cur_dir)\n",
    "    return df_power\n",
    "    "
   ]
  },
  {
   "cell_type": "code",
   "execution_count": 3,
   "metadata": {},
   "outputs": [],
   "source": [
    "co2_data = load_co2_data()\n",
    "co2_df = co2_data['co2_country_sector']['Power Industry']\n",
    "co2_df.index = pd.to_datetime(co2_df.index)\n",
    "co2_df = co2_df.fillna(method='ffill')\n",
    "co2_df = co2_df.rename(columns={'Spain and Andorra': 'Spain',\n",
    "                                'France and Monaco': 'France',\n",
    "                                'Italy, San Marino and the Holy See': 'Italy',\n",
    "                                'Switzerland and Liechtenstein': 'Switzerland'})\n",
    "co2_df = co2_df.resample('M').fillna('ffill')\n",
    "co2_df.index = co2_df.index.map(lambda t: t.replace(day=1))"
   ]
  },
  {
   "cell_type": "code",
   "execution_count": 4,
   "metadata": {},
   "outputs": [
    {
     "name": "stdout",
     "output_type": "stream",
     "text": [
      "Index(['Belgium', 'Bulgaria', 'Czechia', 'Denmark', 'Germany', 'Estonia',\n",
      "       'Ireland', 'Greece', 'Spain', 'France', 'Croatia', 'Italy', 'Cyprus',\n",
      "       'Latvia', 'Lithuania', 'Luxembourg', 'Hungary', 'Malta', 'Netherlands',\n",
      "       'Austria', 'Poland', 'Portugal', 'Romania', 'Slovenia', 'Slovakia',\n",
      "       'Finland', 'Sweden', 'United Kingdom', 'Norway', 'Switzerland',\n",
      "       'North Macedonia', 'Turkey', 'Bosnia and Herzegovina'],\n",
      "      dtype='object', name='') \n",
      "\n",
      "Belgium\n",
      "Bulgaria\n",
      "Czechia\n",
      "Denmark\n",
      "Germany\n",
      "Estonia\n",
      "Ireland\n",
      "Greece\n",
      "Spain\n",
      "France\n",
      "Croatia\n",
      "Italy\n",
      "Cyprus\n",
      "Latvia\n",
      "Lithuania\n",
      "Luxembourg\n",
      "Hungary\n",
      "Malta\n",
      "Netherlands\n",
      "Austria\n",
      "Poland\n",
      "Portugal\n",
      "Romania\n",
      "Slovenia\n",
      "Slovakia\n",
      "Finland\n",
      "Sweden\n",
      "United Kingdom\n",
      "Norway\n",
      "Switzerland\n",
      "North Macedonia\n",
      "Turkey\n",
      "Bosnia and Herzegovina\n"
     ]
    }
   ],
   "source": [
    "power_data = load_power_industry()\n",
    "supply_df = power_data['supply']\n",
    "supply_df = supply_df.drop(columns=['Montenegro', 'Serbia'])\n",
    "print(supply_df.columns, '\\n')\n",
    "for country in supply_df.columns:\n",
    "    print(co2_df[country].name)"
   ]
  },
  {
   "cell_type": "code",
   "execution_count": 5,
   "metadata": {},
   "outputs": [
    {
     "data": {
      "text/plain": [
       "<matplotlib.axes._subplots.AxesSubplot at 0x27ee5c4fa00>"
      ]
     },
     "execution_count": 5,
     "metadata": {},
     "output_type": "execute_result"
    },
    {
     "data": {
      "image/png": "[encoded data removed]",
      "text/plain": [
       "<Figure size 720x432 with 1 Axes>"
      ]
     },
     "metadata": {
      "needs_background": "light"
     },
     "output_type": "display_data"
    }
   ],
   "source": [
    "#for country in supply_df:\n",
    "co2_monthly = pd.DataFrame(index=supply_df.index, columns=supply_df.columns)\n",
    "years = list(supply_df.index.year.unique())\n",
    "years = years[:-2]\n",
    "for country in co2_monthly.columns:\n",
    "    for year in years:  \n",
    "        total = supply_df[f'{year}'][country].sum()\n",
    "        weigths = supply_df[f'{year}'][country]/total\n",
    "        total_co2 = co2_df[f'{year}'][country]\n",
    "        co2_monthly.loc[f'{year}', country] = total_co2 * weigths\n",
    "co2_monthly[['Spain', 'Germany']].plot(figsize=(10,6))"
   ]
  },
  {
   "cell_type": "code",
   "execution_count": 6,
   "metadata": {},
   "outputs": [
    {
     "data": {
      "text/plain": [
       "year\n",
       "1997-01-01     720\n",
       "1997-02-01     720\n",
       "1997-03-01     720\n",
       "1997-04-01     720\n",
       "1997-05-01     720\n",
       "              ... \n",
       "2017-08-01    1135\n",
       "2017-09-01    1135\n",
       "2017-10-01    1135\n",
       "2017-11-01    1135\n",
       "2017-12-01    1135\n",
       "Name: CO2, Length: 252, dtype: int32"
      ]
     },
     "execution_count": 6,
     "metadata": {},
     "output_type": "execute_result"
    }
   ],
   "source": [
    "co2_df = co2_df.drop(columns=['EU'])\n",
    "\n",
    "co2_df = co2_df.resample('M').fillna('ffill')\n",
    "co2_df.index = co2_df.index.map(lambda t: t.replace(day=1))\n",
    "\n",
    "co2_df = co2_df.loc['1997':, :]\n",
    "co2_df = co2_df.sum(axis=1)\n",
    "co2_df.name = 'CO2'\n",
    "co2_df = co2_df.iloc[:-1]\n",
    "co2_df = (co2_df/12)\n",
    "co2_df = co2_df.astype(int)\n",
    "co2_df"
   ]
  },
  {
   "cell_type": "code",
   "execution_count": 7,
   "metadata": {},
   "outputs": [],
   "source": [
    "power_data = load_power_industry()\n",
    "\n",
    "brent_df = power_data['brent']\n",
    "brent_df = brent_df.loc['1997':, :]\n",
    "brent_df = brent_df.rename(columns={'Price': 'Brent price'})\n",
    "brent_forecast = brent_df['2018':]\n",
    "brent_df = brent_df[:'2017']\n",
    "\n",
    "gas_df = power_data['natural_gas']\n",
    "gas_df = gas_df.rename(columns={'Price': 'Natural gas price'})\n",
    "gas_forecast = gas_df['2018':]\n",
    "gas_df = gas_df[:'2017']\n",
    "\n",
    "\n",
    "data = pd.concat([brent_df, gas_df, co2_df], axis=1)\n",
    "data.index.names = ['Date']\n",
    "forecast = pd.concat([brent_forecast, gas_forecast], axis=1)"
   ]
  },
  {
   "cell_type": "code",
   "execution_count": 8,
   "metadata": {},
   "outputs": [
    {
     "data": {
      "text/plain": [
       "<matplotlib.axes._subplots.AxesSubplot at 0x27ee6161610>"
      ]
     },
     "execution_count": 8,
     "metadata": {},
     "output_type": "execute_result"
    },
    {
     "data": {
      "image/png": "[encoded data removed]",
      "text/plain": [
       "<Figure size 720x432 with 1 Axes>"
      ]
     },
     "metadata": {
      "needs_background": "light"
     },
     "output_type": "display_data"
    }
   ],
   "source": [
    "data['CO2'].plot(figsize=(10, 6))"
   ]
  },
  {
   "cell_type": "code",
   "execution_count": 9,
   "metadata": {},
   "outputs": [
    {
     "data": {
      "image/png": "[encoded data removed]",
      "text/plain": [
       "<Figure size 720x432 with 1 Axes>"
      ]
     },
     "metadata": {
      "needs_background": "light"
     },
     "output_type": "display_data"
    }
   ],
   "source": [
    "from sklearn.model_selection import train_test_split, KFold, GridSearchCV\n",
    "from sklearn.svm import SVC\n",
    "from sklearn.linear_model import LogisticRegression \n",
    "import matplotlib.pyplot as plt\n",
    "\n",
    "X = data[['Brent price', 'Natural gas price']]\n",
    "y = data['CO2']\n",
    "X_test = forecast\n",
    "#X_train, X_test, y_train, y_test = train_test_split(X, y, test_size=0.3,random_state=350)\n",
    "\n",
    "\n",
    "\n",
    "model = SVC(kernel='linear')\n",
    "params = {'C': [0.1, 0.2, 0.5, 1, 2, 5]}\n",
    "\n",
    "search = GridSearchCV(model, cv=KFold(5), n_jobs=-1,param_grid=params, scoring='neg_mean_squared_error')\n",
    "search.fit(X, y)\n",
    "\n",
    "\n",
    "   \n",
    "estimator = search.best_estimator_\n",
    "y_pred = estimator.predict(X_test)\n",
    "\n",
    "\n",
    "\n",
    "'''\n",
    "ax = fig.add_subplot(111)\n",
    "ax.plot(forecast.index, y_pred)\n",
    "ax.set_xticks'''\n",
    "\n",
    "fc_series = pd.Series(y_pred, X_test.index)\n",
    "aux_df = pd.DataFrame({'real': y, 'Forecast': fc_series})\n",
    "ax = aux_df.plot(figsize=(10,6))\n",
    "#ax.set_xlim(left = 2017)\n",
    "\n"
   ]
  },
  {
   "cell_type": "code",
   "execution_count": 10,
   "metadata": {},
   "outputs": [
    {
     "data": {
      "text/plain": [
       "[1.0,\n",
       " 1.0,\n",
       " 1.000886524822695,\n",
       " 0.6560283687943262,\n",
       " 1.000886524822695,\n",
       " 1.000886524822695]"
      ]
     },
     "execution_count": 10,
     "metadata": {},
     "output_type": "execute_result"
    }
   ],
   "source": [
    "total = fc_series['2020-1'].values[0]\n",
    "vector = []\n",
    "for month in range(1,7):\n",
    "    aux = fc_series[f'2020-{month}'].values[0]\n",
    "    vector.append(aux/total)\n",
    "vector"
   ]
  },
  {
   "cell_type": "code",
   "execution_count": null,
   "metadata": {},
   "outputs": [],
   "source": []
  }
 ],
 "metadata": {
  "kernelspec": {
   "display_name": "Python 3",
   "language": "python",
   "name": "python3"
  },
  "language_info": {
   "codemirror_mode": {
    "name": "ipython",
    "version": 3
   },
   "file_extension": ".py",
   "mimetype": "text/x-python",
   "name": "python",
   "nbconvert_exporter": "python",
   "pygments_lexer": "ipython3",
   "version": "3.8.3"
  }
 },
 "nbformat": 4,
 "nbformat_minor": 4
}
