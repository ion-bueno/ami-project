{
 "cells": [
  {
   "cell_type": "code",
   "execution_count": 1,
   "metadata": {},
   "outputs": [],
   "source": [
    "import pandas as pd"
   ]
  },
  {
   "cell_type": "code",
   "execution_count": 2,
   "metadata": {},
   "outputs": [],
   "source": [
    "import os\n",
    "import sys\n",
    "\n",
    "# add path\n",
    "if '../..' in sys.path:\n",
    "    pass\n",
    "else:\n",
    "    sys.path.insert(0, '../..')\n",
    "    \n",
    "\n",
    "from loader.greenhouse_loader import GreenhouseLoader\n",
    "from loader.power_industry_loader import PowerLoader\n",
    "\n",
    "def load_co2_data():\n",
    "    ghg_loader = GreenhouseLoader()\n",
    "    cur_dir = os.getcwd()\n",
    "    os.chdir('../../')\n",
    "    ghg_loader.load()\n",
    "    df_ghg = ghg_loader.get_data()\n",
    "    os.chdir(cur_dir)\n",
    "    return df_ghg\n",
    "\n",
    "def load_power_industry():\n",
    "    power_loader = PowerLoader()\n",
    "    cur_dir = os.getcwd()\n",
    "    os.chdir('../../')\n",
    "    power_loader.load()\n",
    "    df_power = power_loader.get_data()\n",
    "    os.chdir(cur_dir)\n",
    "    return df_power\n",
    "    "
   ]
  },
  {
   "cell_type": "code",
   "execution_count": 3,
   "metadata": {},
   "outputs": [
    {
     "data": {
      "text/plain": [
       "Index(['Afghanistan', 'Albania', 'Algeria', 'Angola', 'Anguilla',\n",
       "       'Antigua and Barbuda', 'Argentina', 'Armenia', 'Aruba', 'Australia',\n",
       "       ...\n",
       "       'Uruguay', 'Uzbekistan', 'Vanuatu', 'Venezuela', 'Vietnam',\n",
       "       'Western Sahara', 'Yemen', 'Zambia', 'Zimbabwe', 'EU'],\n",
       "      dtype='object', name='country_name', length=208)"
      ]
     },
     "execution_count": 3,
     "metadata": {},
     "output_type": "execute_result"
    }
   ],
   "source": [
    "gg_data = load_co2_data()\n",
    "co2_df = gg_data['co2_country_sector']['Power Industry']\n",
    "co2_df.index = pd.to_datetime(co2_df.index)\n",
    "co2_df = co2_df.rename(columns={'Spain and Andorra': 'Spain',\n",
    "                                'France and Monaco': 'France',\n",
    "                                'Italy, San Marino and the Holy See': 'Italy',\n",
    "                                'Switzerland and Liechtenstein': 'Switzerland'})\n",
    "co2_df = co2_df.loc['2008':, :]\n",
    "co2_df.columns"
   ]
  },
  {
   "cell_type": "code",
   "execution_count": 14,
   "metadata": {},
   "outputs": [
    {
     "name": "stderr",
     "output_type": "stream",
     "text": [
      "<ipython-input-14-b67ffae69f62>:12: SettingWithCopyWarning: \n",
      "A value is trying to be set on a copy of a slice from a DataFrame.\n",
      "Try using .loc[row_indexer,col_indexer] = value instead\n",
      "\n",
      "See the caveats in the documentation: https://pandas.pydata.org/pandas-docs/stable/user_guide/indexing.html#returning-a-view-versus-a-copy\n",
      "  supply_df['EU'] = supply_df.loc[:, EU_co2].sum(axis=1)\n",
      "<ipython-input-14-b67ffae69f62>:20: SettingWithCopyWarning: \n",
      "A value is trying to be set on a copy of a slice from a DataFrame.\n",
      "Try using .loc[row_indexer,col_indexer] = value instead\n",
      "\n",
      "See the caveats in the documentation: https://pandas.pydata.org/pandas-docs/stable/user_guide/indexing.html#returning-a-view-versus-a-copy\n",
      "  oil_df['EU'] = oil_df.loc[:, EU_co2].sum(axis=1)\n"
     ]
    },
    {
     "data": {
      "text/html": [
       "<div>\n",
       "<style scoped>\n",
       "    .dataframe tbody tr th:only-of-type {\n",
       "        vertical-align: middle;\n",
       "    }\n",
       "\n",
       "    .dataframe tbody tr th {\n",
       "        vertical-align: top;\n",
       "    }\n",
       "\n",
       "    .dataframe thead th {\n",
       "        text-align: right;\n",
       "    }\n",
       "</style>\n",
       "<table border=\"1\" class=\"dataframe\">\n",
       "  <thead>\n",
       "    <tr style=\"text-align: right;\">\n",
       "      <th></th>\n",
       "      <th>Belgium</th>\n",
       "      <th>Bulgaria</th>\n",
       "      <th>Czechia</th>\n",
       "      <th>Denmark</th>\n",
       "      <th>Germany</th>\n",
       "      <th>Estonia</th>\n",
       "      <th>Ireland</th>\n",
       "      <th>Greece</th>\n",
       "      <th>Spain</th>\n",
       "      <th>France</th>\n",
       "      <th>...</th>\n",
       "      <th>Romania</th>\n",
       "      <th>Slovenia</th>\n",
       "      <th>Slovakia</th>\n",
       "      <th>Finland</th>\n",
       "      <th>Sweden</th>\n",
       "      <th>United Kingdom</th>\n",
       "      <th>Norway</th>\n",
       "      <th>North Macedonia</th>\n",
       "      <th>Turkey</th>\n",
       "      <th>EU</th>\n",
       "    </tr>\n",
       "  </thead>\n",
       "  <tbody>\n",
       "  </tbody>\n",
       "</table>\n",
       "<p>0 rows × 32 columns</p>\n",
       "</div>"
      ],
      "text/plain": [
       "Empty DataFrame\n",
       "Columns: [Belgium, Bulgaria, Czechia, Denmark, Germany, Estonia, Ireland, Greece, Spain, France, Croatia, Italy, Cyprus, Latvia, Lithuania, Luxembourg, Hungary, Malta, Netherlands, Austria, Poland, Portugal, Romania, Slovenia, Slovakia, Finland, Sweden, United Kingdom, Norway, North Macedonia, Turkey, EU]\n",
       "Index: []\n",
       "\n",
       "[0 rows x 32 columns]"
      ]
     },
     "execution_count": 14,
     "metadata": {},
     "output_type": "execute_result"
    }
   ],
   "source": [
    "power_data = load_power_industry()\n",
    "\n",
    "EU_co2 = ['Austria', 'Belgium', 'Bulgaria', 'Croatia', 'Cyprus', 'Czechia', 'Denmark',\n",
    "                    'Estonia', 'Finland', 'France', 'Germany', 'Greece', 'Hungary', 'Ireland',\n",
    "                    'Italy', 'Latvia', 'Lithuania', 'Luxembourg', 'Malta', 'Netherlands',\n",
    "                    'Poland', 'Portugal', 'Romania', 'Slovakia', 'Slovenia', 'Spain', 'Sweden', 'United Kingdom']\n",
    "\n",
    "supply_df = power_data['supply']\n",
    "supply_df.name = 'Supply'\n",
    "supply_forecast = supply_df['2019':'2020-04-01']\n",
    "supply_df = supply_df[:'2018']\n",
    "supply_df['EU'] = supply_df.loc[:, EU_co2].sum(axis=1)\n",
    "supply_forecast = supply_df['2019':'2020-04-01']\n",
    "supply_df = supply_df[:'2018']\n",
    "\n",
    "oil_df = power_data['oil']\n",
    "oil_df.name = 'Oil'\n",
    "oil_forecast = oil_df['2019':'2020-04-01']\n",
    "oil_df = oil_df[:'2018']\n",
    "oil_df['EU'] = oil_df.loc[:, EU_co2].sum(axis=1)\n",
    "oil_forecast = oil_df['2019':'2020-04-01']\n",
    "oil_df = oil_df[:'2018']\n",
    "\n",
    "brent_df = power_data['brent']\n",
    "brent_df = brent_df.loc['2008':]\n",
    "brent_df = brent_df.rename(columns={'Price': 'Brent price'})\n",
    "brent_forecast = brent_df['2019':'2020-04-01']\n",
    "brent_df = brent_df[:'2018']\n",
    "\n",
    "gas_df = power_data['natural_gas']\n",
    "gas_df = gas_df.loc['2008':]\n",
    "gas_df = gas_df.rename(columns={'Price': 'Natural gas price'})\n",
    "gas_forecast = gas_df['2019':'2020-04-01']\n",
    "gas_df = gas_df[:'2018']\n",
    "\n",
    "supply_forecast"
   ]
  },
  {
   "cell_type": "code",
   "execution_count": 13,
   "metadata": {},
   "outputs": [
    {
     "data": {
      "text/plain": [
       "{'data':             Brent price  Natural gas price  Supply     Oil     CO2\n",
       " 2008-01-01        92.18               7.99   114.6  6689.0  102.68\n",
       " 2008-02-01        94.99               8.54   116.0  6266.0     NaN\n",
       " 2008-03-01       103.64               9.41   118.3  6515.0     NaN\n",
       " 2008-04-01       109.07              10.18   120.5  6540.0     NaN\n",
       " 2008-05-01       122.80              11.27   117.6  6540.0     NaN\n",
       " ...                 ...                ...     ...     ...     ...\n",
       " 2018-08-01        72.53               2.96    99.3  5456.0     NaN\n",
       " 2018-09-01        78.89               3.00    95.9  5265.0     NaN\n",
       " 2018-10-01        81.03               3.28    98.1  5570.0     NaN\n",
       " 2018-11-01        64.75               4.09    96.7  5389.0     NaN\n",
       " 2018-12-01        57.36               4.04    92.5  5339.0     NaN\n",
       " \n",
       " [132 rows x 5 columns],\n",
       " 'forecast':             Brent price  Natural gas price  Supply  Oil\n",
       " 2019-01-01        59.41               3.11     NaN  NaN\n",
       " 2019-02-01        63.96               2.69     NaN  NaN\n",
       " 2019-03-01        66.14               2.95     NaN  NaN\n",
       " 2019-04-01        71.23               2.65     NaN  NaN\n",
       " 2019-05-01        71.32               2.64     NaN  NaN\n",
       " 2019-06-01        64.22               2.40     NaN  NaN\n",
       " 2019-07-01        63.92               2.37     NaN  NaN\n",
       " 2019-08-01        59.04               2.22     NaN  NaN\n",
       " 2019-09-01        62.83               2.56     NaN  NaN\n",
       " 2019-10-01        59.71               2.33     NaN  NaN\n",
       " 2019-11-01        63.21               2.65     NaN  NaN\n",
       " 2019-12-01        67.31               2.22     NaN  NaN\n",
       " 2020-01-01        63.65               2.02     NaN  NaN\n",
       " 2020-02-01        55.66               1.91     NaN  NaN\n",
       " 2020-03-01        32.01               1.79     NaN  NaN\n",
       " 2020-04-01        18.38               1.74     NaN  NaN}"
      ]
     },
     "execution_count": 13,
     "metadata": {},
     "output_type": "execute_result"
    }
   ],
   "source": [
    "models = {}\n",
    "for country in supply_df.columns:\n",
    "    data = pd.concat([brent_df, gas_df, supply_df[country].rename('Supply'), oil_df[country].rename('Oil'), co2_df[country].rename('CO2')], axis=1)\n",
    "    forecast = pd.concat([brent_forecast, gas_forecast, supply_forecast[country].rename('Supply'), oil_forecast[country].rename('Oil')], axis=1)\n",
    "    models[country] = {'data': data, 'forecast': forecast}\n",
    "\n",
    "models['Spain']"
   ]
  },
  {
   "cell_type": "code",
   "execution_count": null,
   "metadata": {},
   "outputs": [],
   "source": [
    "from sklearn.preprocessing import StandardScaler\n",
    "\n",
    "scaler = StandardScaler()\n",
    "\n",
    "def scale(df):\n",
    "    df_scaled = pd.DataFrame(scaler.fit_transform(df))\n",
    "    df_scaled.index = df.index\n",
    "    df_scaled.columns = df.columns\n",
    "    return df_scaled\n",
    "\n",
    "plt.figure()\n",
    "ax = plt.gca()\n",
    " = scale(df_steel)\n",
    "concrete_norm = scale(df_concrete)\n",
    "employ_norm = scale(df_employ)\n",
    "co2_norm = scale(pd.DataFrame(co2_sum))\n",
    "co2_norm.columns = ['CO2 Emissions Construction Sector']\n",
    "steel_norm.plot(ax=ax)\n",
    "concrete_norm.plot(ax=ax)\n",
    "employ_norm.plot(ax=ax)\n",
    "co2_norm.plot(ax=ax)\n",
    "#co2_sum.plot(ax=ax)"
   ]
  }
 ],
 "metadata": {
  "kernelspec": {
   "display_name": "Python 3",
   "language": "python",
   "name": "python3"
  },
  "language_info": {
   "codemirror_mode": {
    "name": "ipython",
    "version": 3
   },
   "file_extension": ".py",
   "mimetype": "text/x-python",
   "name": "python",
   "nbconvert_exporter": "python",
   "pygments_lexer": "ipython3",
   "version": "3.8.3"
  }
 },
 "nbformat": 4,
 "nbformat_minor": 4
}
