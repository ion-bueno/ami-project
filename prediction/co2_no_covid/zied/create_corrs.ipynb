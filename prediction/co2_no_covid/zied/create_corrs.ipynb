{
 "cells": [
  {
   "cell_type": "code",
   "execution_count": 1,
   "metadata": {},
   "outputs": [],
   "source": [
    "import pandas as pd\n",
    "import os\n",
    "import matplotlib.pyplot as plt\n",
    "import numpy as np\n",
    "import math\n",
    "from sklearn.preprocessing import PolynomialFeatures\n",
    "from sklearn.pipeline import make_pipeline\n",
    "from sklearn.linear_model import LinearRegression\n",
    "from operator import truediv\n",
    "import seaborn as sns\n",
    "from scipy.stats import pearsonr\n",
    "\n",
    "\n",
    "path = \"/Users/ziedbk/Desktop/group01/datasets\"\n",
    "df = pd.read_csv(path+'/greenhouse/co2_country_edgar.csv')\n",
    "df_CO2 = pd.read_csv(path+'/greenhouse/co2_country_edgar.csv')\n",
    "\n",
    "data_co2 =[None] * 213\n",
    "y_predicted =[None] * 213\n",
    "x = np.linspace(0, 49, num=49)\n",
    "x2 = np.linspace(0, 51, num=51)\n",
    "for i in range (np.size(df_CO2['country_name'])):\n",
    "    data_co2[i] = df_CO2.loc[df_CO2['country_name'] == df_CO2['country_name'][i]]\n",
    "    \n",
    "co2_country = df\n",
    "for i in range (np.shape(co2_country)[0]):\n",
    "    co2_country.iloc[i][2:] = (co2_country.iloc[i][2:].str.replace(',', '.', regex=True).astype(float))\n",
    "dataFrame = []\n",
    "list =[[],[]]\n",
    "to_predict = {}\n",
    "for i in range (np.size(co2_country['country_name'])-3):\n",
    "    y = (co2_country.iloc[i][2:])\n",
    "    for ii in range (i, np.size(co2_country['country_name'])-3):\n",
    "        if (i != ii):\n",
    "            yy = (co2_country.iloc[ii][2:])\n",
    "            list[0].append(co2_country.iloc[i][0]+' '+co2_country.iloc[ii][0])\n",
    "            cov = np.cov([y.astype(float),yy.astype(float)])[0][1]\n",
    "            corr = pearsonr(y.astype(float),yy.astype(float))[0] # pearson correlation used to find linear relations, spearman's correlation can be used to find non-linear relations\n",
    "            list[1].append(cov)\n",
    "            dataFrame.append([co2_country.iloc[i][0],co2_country.iloc[ii][0],corr])\n"
   ]
  },
  {
   "cell_type": "code",
   "execution_count": null,
   "metadata": {},
   "outputs": [],
   "source": []
  },
  {
   "cell_type": "code",
   "execution_count": 2,
   "metadata": {},
   "outputs": [],
   "source": [
    "dataFrame = pd.Series(dataFrame)\n",
    "dataFrame.to_csv('corr.csv')"
   ]
  }
 ],
 "metadata": {
  "kernelspec": {
   "display_name": "Python 3",
   "language": "python",
   "name": "python3"
  },
  "language_info": {
   "codemirror_mode": {
    "name": "ipython",
    "version": 3
   },
   "file_extension": ".py",
   "mimetype": "text/x-python",
   "name": "python",
   "nbconvert_exporter": "python",
   "pygments_lexer": "ipython3",
   "version": "3.7.3"
  }
 },
 "nbformat": 4,
 "nbformat_minor": 4
}
